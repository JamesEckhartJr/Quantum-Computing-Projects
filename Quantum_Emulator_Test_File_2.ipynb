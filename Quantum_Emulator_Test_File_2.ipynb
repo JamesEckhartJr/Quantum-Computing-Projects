{
  "nbformat": 4,
  "nbformat_minor": 0,
  "metadata": {
    "colab": {
      "provenance": [],
      "authorship_tag": "ABX9TyPHM3TsYimk+MpjFemcqGHt",
      "include_colab_link": true
    },
    "kernelspec": {
      "name": "python3",
      "display_name": "Python 3"
    },
    "language_info": {
      "name": "python"
    }
  },
  "cells": [
    {
      "cell_type": "markdown",
      "metadata": {
        "id": "view-in-github",
        "colab_type": "text"
      },
      "source": [
        "<a href=\"https://colab.research.google.com/github/JamesEckhartJr/Quantum-Computing-Projects/blob/main/Quantum_Emulator_Test_File_2.ipynb\" target=\"_parent\"><img src=\"https://colab.research.google.com/assets/colab-badge.svg\" alt=\"Open In Colab\"/></a>"
      ]
    },
    {
      "cell_type": "code",
      "execution_count": 1,
      "metadata": {
        "colab": {
          "base_uri": "https://localhost:8080/",
          "height": 825
        },
        "id": "dOoDNfbIy0se",
        "outputId": "f048341c-5b8c-429f-e349-9278f9576ff5"
      },
      "outputs": [
        {
          "output_type": "stream",
          "name": "stdout",
          "text": [
            "\n",
            "OPENQASM 2.0;\n",
            "\n",
            "qreg q[1];\n",
            "\n",
            "creg c[1];\n",
            "\n",
            "h q[0];\n",
            "\n",
            "measure q[0] -> c[0];\n",
            "\n",
            "{'error': 'no error', 'error_code': 0, 'result': {'c': [[1], [0]]}}\n",
            "{'error': 'no error', 'error_code': 0, 'result': {'c': [[0], [0]]}}\n",
            "{'error': 'no error', 'error_code': 0, 'result': {'c': [[1], [0]]}}\n",
            "{'error': 'no error', 'error_code': 0, 'result': {'c': [[0], [1]]}}\n",
            "{'error': 'no error', 'error_code': 0, 'result': {'c': [[1], [0]]}}\n",
            "{'error': 'no error', 'error_code': 0, 'result': {'c': [[0], [0]]}}\n",
            "{'error': 'no error', 'error_code': 0, 'result': {'c': [[0], [0]]}}\n",
            "{'error': 'no error', 'error_code': 0, 'result': {'c': [[0], [1]]}}\n",
            "{'error': 'no error', 'error_code': 0, 'result': {'c': [[1], [0]]}}\n",
            "{'error': 'no error', 'error_code': 0, 'result': {'c': [[1], [1]]}}\n",
            "{'error': 'no error', 'error_code': 0, 'result': {'c': [[1], [1]]}}\n",
            "{'error': 'no error', 'error_code': 0, 'result': {'c': [[1], [1]]}}\n",
            "{'error': 'no error', 'error_code': 0, 'result': {'c': [[1], [0]]}}\n",
            "{'error': 'no error', 'error_code': 0, 'result': {'c': [[1], [1]]}}\n",
            "{'error': 'no error', 'error_code': 0, 'result': {'c': [[0], [1]]}}\n",
            "{'error': 'no error', 'error_code': 0, 'result': {'c': [[0], [1]]}}\n",
            "{'error': 'no error', 'error_code': 0, 'result': {'c': [[0], [1]]}}\n"
          ]
        },
        {
          "output_type": "error",
          "ename": "JSONDecodeError",
          "evalue": "Expecting value: line 1 column 1 (char 0)",
          "traceback": [
            "\u001b[0;31m---------------------------------------------------------------------------\u001b[0m",
            "\u001b[0;31mJSONDecodeError\u001b[0m                           Traceback (most recent call last)",
            "\u001b[0;32m/tmp/ipython-input-3452946659.py\u001b[0m in \u001b[0;36m<cell line: 0>\u001b[0;34m()\u001b[0m\n\u001b[1;32m     65\u001b[0m \u001b[0;34m\u001b[0m\u001b[0m\n\u001b[1;32m     66\u001b[0m   \u001b[0;31m# load the object into a Python dictionary\u001b[0m\u001b[0;34m\u001b[0m\u001b[0;34m\u001b[0m\u001b[0m\n\u001b[0;32m---> 67\u001b[0;31m   \u001b[0mjson_obj\u001b[0m \u001b[0;34m=\u001b[0m \u001b[0mjson\u001b[0m\u001b[0;34m.\u001b[0m\u001b[0mloads\u001b[0m\u001b[0;34m(\u001b[0m\u001b[0mresult\u001b[0m\u001b[0;34m.\u001b[0m\u001b[0mcontent\u001b[0m\u001b[0;34m)\u001b[0m\u001b[0;34m\u001b[0m\u001b[0;34m\u001b[0m\u001b[0m\n\u001b[0m\u001b[1;32m     68\u001b[0m \u001b[0;34m\u001b[0m\u001b[0m\n\u001b[1;32m     69\u001b[0m   \u001b[0;31m# print the keys and entries\u001b[0m\u001b[0;34m\u001b[0m\u001b[0;34m\u001b[0m\u001b[0m\n",
            "\u001b[0;32m/usr/lib/python3.12/json/__init__.py\u001b[0m in \u001b[0;36mloads\u001b[0;34m(s, cls, object_hook, parse_float, parse_int, parse_constant, object_pairs_hook, **kw)\u001b[0m\n\u001b[1;32m    344\u001b[0m             \u001b[0mparse_int\u001b[0m \u001b[0;32mis\u001b[0m \u001b[0;32mNone\u001b[0m \u001b[0;32mand\u001b[0m \u001b[0mparse_float\u001b[0m \u001b[0;32mis\u001b[0m \u001b[0;32mNone\u001b[0m \u001b[0;32mand\u001b[0m\u001b[0;34m\u001b[0m\u001b[0;34m\u001b[0m\u001b[0m\n\u001b[1;32m    345\u001b[0m             parse_constant is None and object_pairs_hook is None and not kw):\n\u001b[0;32m--> 346\u001b[0;31m         \u001b[0;32mreturn\u001b[0m \u001b[0m_default_decoder\u001b[0m\u001b[0;34m.\u001b[0m\u001b[0mdecode\u001b[0m\u001b[0;34m(\u001b[0m\u001b[0ms\u001b[0m\u001b[0;34m)\u001b[0m\u001b[0;34m\u001b[0m\u001b[0;34m\u001b[0m\u001b[0m\n\u001b[0m\u001b[1;32m    347\u001b[0m     \u001b[0;32mif\u001b[0m \u001b[0mcls\u001b[0m \u001b[0;32mis\u001b[0m \u001b[0;32mNone\u001b[0m\u001b[0;34m:\u001b[0m\u001b[0;34m\u001b[0m\u001b[0;34m\u001b[0m\u001b[0m\n\u001b[1;32m    348\u001b[0m         \u001b[0mcls\u001b[0m \u001b[0;34m=\u001b[0m \u001b[0mJSONDecoder\u001b[0m\u001b[0;34m\u001b[0m\u001b[0;34m\u001b[0m\u001b[0m\n",
            "\u001b[0;32m/usr/lib/python3.12/json/decoder.py\u001b[0m in \u001b[0;36mdecode\u001b[0;34m(self, s, _w)\u001b[0m\n\u001b[1;32m    336\u001b[0m \u001b[0;34m\u001b[0m\u001b[0m\n\u001b[1;32m    337\u001b[0m         \"\"\"\n\u001b[0;32m--> 338\u001b[0;31m         \u001b[0mobj\u001b[0m\u001b[0;34m,\u001b[0m \u001b[0mend\u001b[0m \u001b[0;34m=\u001b[0m \u001b[0mself\u001b[0m\u001b[0;34m.\u001b[0m\u001b[0mraw_decode\u001b[0m\u001b[0;34m(\u001b[0m\u001b[0ms\u001b[0m\u001b[0;34m,\u001b[0m \u001b[0midx\u001b[0m\u001b[0;34m=\u001b[0m\u001b[0m_w\u001b[0m\u001b[0;34m(\u001b[0m\u001b[0ms\u001b[0m\u001b[0;34m,\u001b[0m \u001b[0;36m0\u001b[0m\u001b[0;34m)\u001b[0m\u001b[0;34m.\u001b[0m\u001b[0mend\u001b[0m\u001b[0;34m(\u001b[0m\u001b[0;34m)\u001b[0m\u001b[0;34m)\u001b[0m\u001b[0;34m\u001b[0m\u001b[0;34m\u001b[0m\u001b[0m\n\u001b[0m\u001b[1;32m    339\u001b[0m         \u001b[0mend\u001b[0m \u001b[0;34m=\u001b[0m \u001b[0m_w\u001b[0m\u001b[0;34m(\u001b[0m\u001b[0ms\u001b[0m\u001b[0;34m,\u001b[0m \u001b[0mend\u001b[0m\u001b[0;34m)\u001b[0m\u001b[0;34m.\u001b[0m\u001b[0mend\u001b[0m\u001b[0;34m(\u001b[0m\u001b[0;34m)\u001b[0m\u001b[0;34m\u001b[0m\u001b[0;34m\u001b[0m\u001b[0m\n\u001b[1;32m    340\u001b[0m         \u001b[0;32mif\u001b[0m \u001b[0mend\u001b[0m \u001b[0;34m!=\u001b[0m \u001b[0mlen\u001b[0m\u001b[0;34m(\u001b[0m\u001b[0ms\u001b[0m\u001b[0;34m)\u001b[0m\u001b[0;34m:\u001b[0m\u001b[0;34m\u001b[0m\u001b[0;34m\u001b[0m\u001b[0m\n",
            "\u001b[0;32m/usr/lib/python3.12/json/decoder.py\u001b[0m in \u001b[0;36mraw_decode\u001b[0;34m(self, s, idx)\u001b[0m\n\u001b[1;32m    354\u001b[0m             \u001b[0mobj\u001b[0m\u001b[0;34m,\u001b[0m \u001b[0mend\u001b[0m \u001b[0;34m=\u001b[0m \u001b[0mself\u001b[0m\u001b[0;34m.\u001b[0m\u001b[0mscan_once\u001b[0m\u001b[0;34m(\u001b[0m\u001b[0ms\u001b[0m\u001b[0;34m,\u001b[0m \u001b[0midx\u001b[0m\u001b[0;34m)\u001b[0m\u001b[0;34m\u001b[0m\u001b[0;34m\u001b[0m\u001b[0m\n\u001b[1;32m    355\u001b[0m         \u001b[0;32mexcept\u001b[0m \u001b[0mStopIteration\u001b[0m \u001b[0;32mas\u001b[0m \u001b[0merr\u001b[0m\u001b[0;34m:\u001b[0m\u001b[0;34m\u001b[0m\u001b[0;34m\u001b[0m\u001b[0m\n\u001b[0;32m--> 356\u001b[0;31m             \u001b[0;32mraise\u001b[0m \u001b[0mJSONDecodeError\u001b[0m\u001b[0;34m(\u001b[0m\u001b[0;34m\"Expecting value\"\u001b[0m\u001b[0;34m,\u001b[0m \u001b[0ms\u001b[0m\u001b[0;34m,\u001b[0m \u001b[0merr\u001b[0m\u001b[0;34m.\u001b[0m\u001b[0mvalue\u001b[0m\u001b[0;34m)\u001b[0m \u001b[0;32mfrom\u001b[0m \u001b[0;32mNone\u001b[0m\u001b[0;34m\u001b[0m\u001b[0;34m\u001b[0m\u001b[0m\n\u001b[0m\u001b[1;32m    357\u001b[0m         \u001b[0;32mreturn\u001b[0m \u001b[0mobj\u001b[0m\u001b[0;34m,\u001b[0m \u001b[0mend\u001b[0m\u001b[0;34m\u001b[0m\u001b[0;34m\u001b[0m\u001b[0m\n",
            "\u001b[0;31mJSONDecodeError\u001b[0m: Expecting value: line 1 column 1 (char 0)"
          ]
        }
      ],
      "source": [
        "import time # Import the time module\n",
        "\n",
        "## OPENQASM 2.0;\n",
        "## qreg q[1];\n",
        "## creg c[1];\n",
        "## h q[0];\n",
        "## measure q[0] -> c[0];\n",
        "\n",
        "# QASM is text based, so we'll use strings here in Python\n",
        "# Every QASM files starts the same\n",
        "program = \"\"\"\n",
        "OPENQASM 2.0;\n",
        "\"\"\"\n",
        "\n",
        "# Next, we specify the number of qubits using the command \"qreg q[  ];\"\n",
        "program += \"\"\"\n",
        "qreg q[1];\n",
        "\"\"\"\n",
        "\n",
        "# Finally, the initialization is complete by specifying the classical\n",
        "# registers where the results of measurement are stored\n",
        "# this is done using \"creg c[  ];\"\n",
        "program += \"\"\"\n",
        "creg c[1];\n",
        "\"\"\"\n",
        "\n",
        "# To apply a quantum instruction, or \"gate\", use the pattern \"gate q[ ];\"\n",
        "# We want to apply \"hadamard\", which is \"h\" in the QASM language\n",
        "program += \"\"\"\n",
        "h q[0];\n",
        "\"\"\"\n",
        "\n",
        "# To read a qubit, we use \"measure q[ ] -> c[ ]\"\n",
        "# This QASM command says measure a qubit and store the bit value\n",
        "# in a classical register\n",
        "program += \"\"\"\n",
        "measure q[0] -> c[0];\n",
        "\"\"\"\n",
        "\n",
        "print(program)\n",
        "\n",
        "# Data handling and communication\n",
        "import json  # For working with JSON (JavaScript Object Notation) data\n",
        "import requests  # For making HTTP requests to the Quokka\n",
        "\n",
        "# Suppressing warnings (optional)\n",
        "from requests.packages.urllib3.exceptions import InsecureRequestWarning\n",
        "requests.packages.urllib3.disable_warnings(InsecureRequestWarning)  # Disable warnings about insecure requests\n",
        "\n",
        "# default Quokka address (change if you have your own!):\n",
        "my_quokka = 'quokka1'\n",
        "\n",
        "# the complete addresss\n",
        "request_http = 'http://{}.quokkacomputing.com/qsim/qasm'.format(my_quokka)\n",
        "\n",
        "# create dictionary\n",
        "data = {\n",
        "    'script': program,\n",
        "    'count': 2\n",
        "}\n",
        "\n",
        "try:\n",
        "    # send the request\n",
        "    result = requests.post(request_http, json=data, verify=False)\n",
        "\n",
        "    # load the object into a Python dictionary\n",
        "    json_obj = json.loads(result.content)\n",
        "\n",
        "    # print the keys and entries\n",
        "    print(json_obj)\n",
        "\n",
        "except json.JSONDecodeError as e:\n",
        "    print(f\"JSON Decode Error: {e}\")\n",
        "    print(f\"Raw response content: {result.content}\")"
      ]
    }
  ]
}