{
  "nbformat": 4,
  "nbformat_minor": 0,
  "metadata": {
    "colab": {
      "provenance": [],
      "authorship_tag": "ABX9TyMp4tiWWdWJiqB+Kbhp8Sa2",
      "include_colab_link": true
    },
    "kernelspec": {
      "name": "python3",
      "display_name": "Python 3"
    },
    "language_info": {
      "name": "python"
    }
  },
  "cells": [
    {
      "cell_type": "markdown",
      "metadata": {
        "id": "view-in-github",
        "colab_type": "text"
      },
      "source": [
        "<a href=\"https://colab.research.google.com/github/JamesEckhartJr/Quantum-Computing-Projects/blob/main/Quantum_Emulator_Test_File_2.ipynb\" target=\"_parent\"><img src=\"https://colab.research.google.com/assets/colab-badge.svg\" alt=\"Open In Colab\"/></a>"
      ]
    },
    {
      "cell_type": "code",
      "execution_count": null,
      "metadata": {
        "colab": {
          "base_uri": "https://localhost:8080/"
        },
        "id": "dOoDNfbIy0se",
        "outputId": "5838b454-773e-4f18-cb9c-e815ec04eb9b"
      },
      "outputs": [
        {
          "output_type": "stream",
          "name": "stdout",
          "text": [
            "\n",
            "OPENQASM 2.0;\n",
            "\n",
            "qreg q[1];\n",
            "\n",
            "creg c[1];\n",
            "\n",
            "h q[0];\n",
            "\n",
            "measure q[0] -> c[0];\n",
            "\n",
            "{'error': 'no error', 'error_code': 0, 'result': {'c': [[1], [1]]}}\n",
            "{'error': 'no error', 'error_code': 0, 'result': {'c': [[1], [0]]}}\n",
            "{'error': 'no error', 'error_code': 0, 'result': {'c': [[1], [1]]}}\n",
            "{'error': 'no error', 'error_code': 0, 'result': {'c': [[1], [1]]}}\n",
            "{'error': 'no error', 'error_code': 0, 'result': {'c': [[0], [0]]}}\n",
            "{'error': 'no error', 'error_code': 0, 'result': {'c': [[0], [0]]}}\n",
            "{'error': 'no error', 'error_code': 0, 'result': {'c': [[1], [0]]}}\n",
            "{'error': 'no error', 'error_code': 0, 'result': {'c': [[0], [1]]}}\n",
            "{'error': 'no error', 'error_code': 0, 'result': {'c': [[0], [1]]}}\n",
            "{'error': 'no error', 'error_code': 0, 'result': {'c': [[1], [0]]}}\n",
            "{'error': 'no error', 'error_code': 0, 'result': {'c': [[1], [1]]}}\n"
          ]
        }
      ],
      "source": [
        "import time # Import the time module\n",
        "\n",
        "## OPENQASM 2.0;\n",
        "## qreg q[1];\n",
        "## creg c[1];\n",
        "## h q[0];\n",
        "## measure q[0] -> c[0];\n",
        "\n",
        "# QASM is text based, so we'll use strings here in Python\n",
        "# Every QASM files starts the same\n",
        "program = \"\"\"\n",
        "OPENQASM 2.0;\n",
        "\"\"\"\n",
        "\n",
        "# Next, we specify the number of qubits using the command \"qreg q[  ];\"\n",
        "program += \"\"\"\n",
        "qreg q[1];\n",
        "\"\"\"\n",
        "\n",
        "# Finally, the initialization is complete by specifying the classical\n",
        "# registers where the results of measurement are stored\n",
        "# this is done using \"creg c[  ];\"\n",
        "program += \"\"\"\n",
        "creg c[1];\n",
        "\"\"\"\n",
        "\n",
        "# To apply a quantum instruction, or \"gate\", use the pattern \"gate q[ ];\"\n",
        "# We want to apply \"hadamard\", which is \"h\" in the QASM language\n",
        "program += \"\"\"\n",
        "h q[0];\n",
        "\"\"\"\n",
        "\n",
        "# To read a qubit, we use \"measure q[ ] -> c[ ]\"\n",
        "# This QASM command says measure a qubit and store the bit value\n",
        "# in a classical register\n",
        "program += \"\"\"\n",
        "measure q[0] -> c[0];\n",
        "\"\"\"\n",
        "\n",
        "print(program)\n",
        "\n",
        "# Data handling and communication\n",
        "import json  # For working with JSON (JavaScript Object Notation) data\n",
        "import requests  # For making HTTP requests to the Quokka\n",
        "\n",
        "# Suppressing warnings (optional)\n",
        "from requests.packages.urllib3.exceptions import InsecureRequestWarning\n",
        "requests.packages.urllib3.disable_warnings(InsecureRequestWarning)  # Disable warnings about insecure requests\n",
        "\n",
        "# default Quokka address (change if you have your own!):\n",
        "my_quokka = 'quokka1'\n",
        "\n",
        "# the complete addresss\n",
        "request_http = 'http://{}.quokkacomputing.com/qsim/qasm'.format(my_quokka)\n",
        "\n",
        "# create dictionary\n",
        "data = {\n",
        "    'script': program,\n",
        "    'count': 2\n",
        "}\n",
        "\n",
        "while True: # Loop indefinitely\n",
        "  # send the request\n",
        "  result = requests.post(request_http, json=data, verify=False)\n",
        "\n",
        "  # load the object into a Python dictionary\n",
        "  json_obj = json.loads(result.content)\n",
        "\n",
        "  # print the keys and entries\n",
        "  print(json_obj)\n",
        "\n",
        "  time.sleep(10) # Wait for 10 seconds"
      ]
    }
  ]
}