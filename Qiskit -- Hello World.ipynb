{
 "cells": [
  {
   "cell_type": "code",
   "execution_count": null,
   "id": "a565798b-e6a2-4c3b-ab4b-e77544f62294",
   "metadata": {},
   "outputs": [],
   "source": [
    "#Hello World exmaple on a 2-qubit Bell state.\n",
    "\n",
    "from qiskit import QuantumCircuit\n",
    "#from qiskit.quantuminfo import SparsePauliOp\n",
    "#from qiskit.transpiler import generate_present_pass_manager\n",
    "from qiskit_ibm_runtime import EstimatorV2 as Estimator\n",
    "\n",
    "qc = QuantumCiruit(2)\n",
    "\n",
    "qc.h(0)\n",
    "\n",
    "qc.cx(0, 1)\n",
    "\n",
    "qc.draw(output='mpl')"
   ]
  }
 ],
 "metadata": {
  "kernelspec": {
   "display_name": "Python 3 (ipykernel)",
   "language": "python",
   "name": "python3"
  },
  "language_info": {
   "codemirror_mode": {
    "name": "ipython",
    "version": 3
   },
   "file_extension": ".py",
   "mimetype": "text/x-python",
   "name": "python",
   "nbconvert_exporter": "python",
   "pygments_lexer": "ipython3",
   "version": "3.13.3"
  }
 },
 "nbformat": 4,
 "nbformat_minor": 5
}
